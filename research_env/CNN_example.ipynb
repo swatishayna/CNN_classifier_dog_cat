{
 "cells": [
  {
   "cell_type": "markdown",
   "id": "9908d178",
   "metadata": {},
   "source": [
    "!pip install tqdm"
   ]
  },
  {
   "cell_type": "code",
   "execution_count": 3,
   "id": "388cf0eb",
   "metadata": {},
   "outputs": [],
   "source": [
    "import tensorflow as tf\n",
    "import os\n",
    "from tqdm import tqdm\n",
    "import urllib.request as req"
   ]
  },
  {
   "cell_type": "code",
   "execution_count": 4,
   "id": "c55dda75",
   "metadata": {},
   "outputs": [],
   "source": [
    "SOURCE_URL = \"https://download.microsoft.com/download/3/E/1/3E1C3F21-ECDB-4869-8368-6DEBA77B919F/kagglecatsanddogs_3367a.zip\"\n",
    "\n",
    "DESTINATION = \"data\"\n",
    "os.makedirs(DESTINATION, exist_ok=True)\n",
    "data_file = \"data.zip\"\n",
    "DESTINATION_ZIP_path = os.path.join(DESTINATION, data_file)"
   ]
  },
  {
   "cell_type": "code",
   "execution_count": 5,
   "id": "10c812e1",
   "metadata": {},
   "outputs": [],
   "source": [
    "filename, headers = req.urlretrieve(SOURCE_URL,DESTINATION_ZIP_path)"
   ]
  },
  {
   "cell_type": "code",
   "execution_count": 6,
   "id": "c293505f",
   "metadata": {},
   "outputs": [
    {
     "data": {
      "text/plain": [
       "'data\\\\data.zip'"
      ]
     },
     "execution_count": 6,
     "metadata": {},
     "output_type": "execute_result"
    }
   ],
   "source": [
    "filename\n"
   ]
  },
  {
   "cell_type": "code",
   "execution_count": 7,
   "id": "9638b3aa",
   "metadata": {},
   "outputs": [
    {
     "name": "stdout",
     "output_type": "stream",
     "text": [
      "Content-Type: application/octet-stream\n",
      "Accept-Ranges: bytes\n",
      "Server: Windows-Azure-Blob/1.0 Microsoft-HTTPAPI/2.0\n",
      "x-ms-blob-content-md5: l2WJyK3tt5/f2azyQ9eE8w==\n",
      "Last-Modified: Sat, 13 Oct 2018 12:14:22 GMT\n",
      "ETag: \"0x8D6310568FD1DF6\"\n",
      "Content-Length: 824894548\n",
      "Date: Sat, 26 Feb 2022 06:21:46 GMT\n",
      "Connection: close\n",
      "\n",
      "\n"
     ]
    }
   ],
   "source": [
    "print(headers)"
   ]
  },
  {
   "cell_type": "code",
   "execution_count": null,
   "id": "56af89ad",
   "metadata": {},
   "outputs": [],
   "source": []
  }
 ],
 "metadata": {
  "kernelspec": {
   "display_name": "Python 3 (ipykernel)",
   "language": "python",
   "name": "python3"
  },
  "language_info": {
   "codemirror_mode": {
    "name": "ipython",
    "version": 3
   },
   "file_extension": ".py",
   "mimetype": "text/x-python",
   "name": "python",
   "nbconvert_exporter": "python",
   "pygments_lexer": "ipython3",
   "version": "3.7.11"
  }
 },
 "nbformat": 4,
 "nbformat_minor": 5
}
